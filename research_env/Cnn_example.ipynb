{
 "cells": [
  {
   "cell_type": "code",
   "execution_count": 8,
   "id": "4eb56a3b",
   "metadata": {},
   "outputs": [],
   "source": [
    "import tensorflow as tf\n",
    "import os\n",
    "import urllib.request as req \n",
    "from tqdm import tqdm"
   ]
  },
  {
   "cell_type": "code",
   "execution_count": 5,
   "id": "59980600",
   "metadata": {},
   "outputs": [
    {
     "name": "stdout",
     "output_type": "stream",
     "text": [
      "Requirement already satisfied: tdqm in f:\\deep learning implementation\\cnn_classfier\\cnn_classfier\\env\\lib\\site-packages (0.0.1)\n",
      "Requirement already satisfied: tqdm in f:\\deep learning implementation\\cnn_classfier\\cnn_classfier\\env\\lib\\site-packages (from tdqm) (4.64.0)\n",
      "Requirement already satisfied: colorama in f:\\deep learning implementation\\cnn_classfier\\cnn_classfier\\env\\lib\\site-packages (from tqdm->tdqm) (0.4.4)\n"
     ]
    }
   ],
   "source": [
    "!pip install tdqm"
   ]
  },
  {
   "cell_type": "code",
   "execution_count": null,
   "id": "13d16dc7",
   "metadata": {},
   "outputs": [],
   "source": []
  }
 ],
 "metadata": {
  "kernelspec": {
   "display_name": "Python 3 (ipykernel)",
   "language": "python",
   "name": "python3"
  },
  "language_info": {
   "codemirror_mode": {
    "name": "ipython",
    "version": 3
   },
   "file_extension": ".py",
   "mimetype": "text/x-python",
   "name": "python",
   "nbconvert_exporter": "python",
   "pygments_lexer": "ipython3",
   "version": "3.7.13"
  }
 },
 "nbformat": 4,
 "nbformat_minor": 5
}
